{
 "cells": [
  {
   "cell_type": "code",
   "execution_count": 63,
   "metadata": {},
   "outputs": [],
   "source": [
    "import pandas as pd\n",
    "import mysql.connector as db\n",
    "import json\n",
    "from base64 import b64encode\n",
    "import os\n",
    "\n",
    "import ipywidgets as widgets\n",
    "from IPython.display import display, HTML\n",
    "\n",
    "with open('config.json') as f:\n",
    "    config = json.load(f)\n",
    "    \n",
    "mydb = db.connect(host=config['host'], user=config['user'], passwd=config['passwd'], port=9453)\n",
    "cursor = mydb.cursor()\n",
    "\n",
    "\n",
    "cursor.execute(\"USE newImageDB;\")"
   ]
  },
  {
   "cell_type": "code",
   "execution_count": 64,
   "metadata": {},
   "outputs": [],
   "source": [
    "# For Visualization\n",
    "def SQL_COMMAND(cursor, query):\n",
    "    \n",
    "    cursor.execute(query)\n",
    "    rows = cursor.fetchall()\n",
    "    columns = [i[0] for i in cursor.description]\n",
    "\n",
    "    df = pd.DataFrame(rows, columns=columns)\n",
    "\n",
    "    html_str = '<table border=\"1\" style=\"solid; border-collapse: collapse; width: 100%; table-layout: fixed;\">'\n",
    "    html_str += '<tr>' + ''.join(f'<th style=\"padding: 8px; text-align: center; background-color: #323232;\">{col}</th>' for col in df.columns) + '</tr>'\n",
    "    for index, row in df.iterrows():\n",
    "        html_str += '<tr>'\n",
    "        for col in df.columns:\n",
    "            if col == 'img_path':\n",
    "                # /Users/chian/Documents/DBMS/DBMS_Final\n",
    "                with open(row[col].replace('/mysqludf/', '/Users/chian/Documents/DBMS/DBMS_Final/過程廢物/'), \"rb\") as image_file:\n",
    "                    encoded_string = b64encode(image_file.read()).decode()\n",
    "                img_html = f'<img src=\"data:image/jpeg;base64,{encoded_string}\" style=\"height: 100px; display: block; margin: auto;\"/>'\n",
    "                html_str += f'<td style=\"padding: 8px;\">{img_html}</td>'\n",
    "            else:\n",
    "                html_str += f'<td style=\"padding: 8px; text-align: center;\">{row[col]}</td>'\n",
    "        html_str += '</tr>'\n",
    "    html_str += '</table>'\n",
    "\n",
    "    display(HTML(html_str))"
   ]
  },
  {
   "cell_type": "markdown",
   "metadata": {},
   "source": [
    "## Insert Test Data to DB\n",
    "10 classes x 5 images = 50"
   ]
  },
  {
   "cell_type": "code",
   "execution_count": 65,
   "metadata": {},
   "outputs": [],
   "source": [
    "info = {\n",
    "\"n02690373\": {\n",
    "    \"class_name\" : \"airliner\",\n",
    "    \"number\": 0\n",
    "},\n",
    "\"n04285008\":{\n",
    "    \"class_name\" : \"sports_car\",\n",
    "    \"number\": 1\n",
    "},\n",
    "\"n01833805\":{\n",
    "    \"class_name\" : \"hummingbird\", \n",
    "    \"number\": 2\n",
    "},\n",
    "\"n02124075\":{\n",
    "    \"class_name\" : \"Egyptian_cat\", \n",
    "    \"number\": 3\n",
    "},\n",
    "\"n02403003\":{\n",
    "    \"class_name\" : \"Ox\",\n",
    "    \"number\": 4\n",
    "},\n",
    "\"n02099601\":{\n",
    "    \"class_name\" : \"golden_retriever\",\n",
    "    \"number\": 5\n",
    "},\n",
    "\"n01644900\":{\n",
    "    \"class_name\" : \"tailed_frog\",\n",
    "    \"number\": 6\n",
    "},\n",
    "\"n02391049\":{\n",
    "    \"class_name\" : \"zebra\",\n",
    "    \"number\": 7\n",
    "},\n",
    "\"n03095699\":{\n",
    "    \"class_name\" : \"container_ship\",\n",
    "    \"number\": 8\n",
    "},\n",
    "\"n04467665\":{\n",
    "    \"class_name\" : \"trailer_truck\",\n",
    "    \"number\": 9\n",
    "}\n",
    "}"
   ]
  },
  {
   "cell_type": "code",
   "execution_count": 67,
   "metadata": {},
   "outputs": [],
   "source": [
    "insert_stmt = (\n",
    "        \"INSERT INTO image_table (img_path, ground_truth) VALUES (%s, %s)\"\n",
    "    )\n",
    "\n",
    "root_dir = 'imgs'\n",
    "categories = [d for d in os.listdir(root_dir) if os.path.isdir(os.path.join(root_dir, d))]\n",
    "\n",
    "selected_images = []\n",
    "\n",
    "for category in categories:\n",
    "    category_path = os.path.join(root_dir, category)\n",
    "    images = [img for img in os.listdir(category_path) if img.endswith('.JPEG')]\n",
    "\n",
    "    images = sorted(images)\n",
    "    selected_images = images[:5]\n",
    "    \n",
    "    ground_truth = info[category]['number']\n",
    "\n",
    "    for image in selected_images:\n",
    "        cursor.execute(insert_stmt, (os.path.join('/mysqludf', root_dir, category, image), ground_truth))"
   ]
  },
  {
   "cell_type": "code",
   "execution_count": 69,
   "metadata": {},
   "outputs": [
    {
     "data": {
      "application/vnd.jupyter.widget-view+json": {
       "model_id": "9df2b2ad0ce04a3c81abb63b69a7fba7",
       "version_major": 2,
       "version_minor": 0
      },
      "text/plain": [
       "HBox(children=(Text(value='SELECT * FROM image_table;', description='SQL', layout=Layout(width='100%')), Butto…"
      ]
     },
     "metadata": {},
     "output_type": "display_data"
    }
   ],
   "source": [
    "def my_function(b):\n",
    "    try:\n",
    "        param = str(text_input.value)\n",
    "        SQL_COMMAND(cursor=cursor, query=param)\n",
    "    except ValueError:\n",
    "        print(\"SQL COMMAND INVALID!\")\n",
    "        \n",
    "text_input = widgets.Text(\n",
    "    value='SELECT * FROM image_table;',\n",
    "    description='SQL',\n",
    "    disabled=False,\n",
    "    layout=widgets.Layout(width='100%') \n",
    ")\n",
    "\n",
    "button = widgets.Button(\n",
    "    description='Submit',\n",
    "    button_style='success', \n",
    "    icon='check',\n",
    "    layout=widgets.Layout(width='100px', height='30px')\n",
    ")\n",
    "\n",
    "button.on_click(my_function)\n",
    "display(widgets.HBox([text_input, button]))"
   ]
  },
  {
   "cell_type": "markdown",
   "metadata": {},
   "source": [
    "## Spend & Accuracy Test\n",
    "\n",
    "about 1 hour for 4 setting, [oringinal, fast, faster, fastest]"
   ]
  },
  {
   "cell_type": "code",
   "execution_count": 70,
   "metadata": {},
   "outputs": [],
   "source": [
    "def calculate_acc(rows, GD):\n",
    "    rows = rows[:10]\n",
    "    \n",
    "    acc = 0\n",
    "    for row in rows:\n",
    "        # print(row)\n",
    "        if row[0] == GD:\n",
    "            acc += 1\n",
    "    return acc * 20"
   ]
  },
  {
   "cell_type": "code",
   "execution_count": 76,
   "metadata": {},
   "outputs": [
    {
     "name": "stdout",
     "output_type": "stream",
     "text": [
      "Class: 3\n",
      "===============================\n",
      "Original: 114.07613778114319 sec, Original Acc: 100\n",
      "Fast: 78.04226303100586 sec, Fastest Acc: 100\n",
      "Faster: 67.18326306343079 sec, Fastest Acc: 100\n",
      "Fastest: 37.662351846694946 sec, Fastest Acc: 100\n"
     ]
    }
   ],
   "source": [
    "import time\n",
    "\n",
    "root_dir = 'imgs'\n",
    "categories = [d for d in os.listdir(root_dir) if os.path.isdir(os.path.join(root_dir, d))]\n",
    "\n",
    "selected_images = []\n",
    "\n",
    "for category in categories:\n",
    "    category_path = os.path.join(root_dir, category)\n",
    "    images = [img for img in os.listdir(category_path) if img.endswith('.JPEG')]\n",
    "    images = sorted(images)\n",
    "\n",
    "    selected_images = [images[11]]\n",
    "    ground_truth = info[category]['number']\n",
    "\n",
    "    for image in selected_images:\n",
    "\n",
    "        print(f'Class: {ground_truth}')\n",
    "        img_path = os.path.join('/mysqludf', root_dir, category, image)\n",
    "\n",
    "        time0 = time.time()\n",
    "        cursor.execute(f\"SELECT ground_truth, img_path, image_sim(img_path, '{img_path}') AS sim FROM image_table;\")\n",
    "        rows = cursor.fetchall()\n",
    "        Acc0 = calculate_acc(rows, ground_truth)\n",
    "\n",
    "        time1 = time.time()\n",
    "        cursor.callproc(\"fast_sim\", (img_path, )) \n",
    "        rows = []\n",
    "        for result in cursor.stored_results():\n",
    "            rows.extend(result.fetchall())\n",
    "        Acc1 = calculate_acc(rows, ground_truth)\n",
    "        \n",
    "        time2 = time.time()\n",
    "        cursor.callproc(\"faster_sim\", (img_path, )) \n",
    "        rows = []\n",
    "        for result in cursor.stored_results():\n",
    "            rows.extend(result.fetchall())\n",
    "        Acc2 = calculate_acc(rows, ground_truth)\n",
    "\n",
    "        time3 = time.time()\n",
    "        cursor.callproc(\"fastest_sim\", (img_path, )) \n",
    "        time4 = time.time()\n",
    "        rows = []\n",
    "        for result in cursor.stored_results():\n",
    "            rows.extend(result.fetchall())\n",
    "        Acc3 = calculate_acc(rows, ground_truth)\n",
    "\n",
    "        print(f'===============================')\n",
    "        print(f'Original: {time1 - time0} sec, Original Acc: {Acc0}')\n",
    "        print(f'Fast: {time2 - time1} sec, Fast Acc: {Acc1}')\n",
    "        print(f'Faster: {time3 - time2} sec, Faster Acc: {Acc2}')\n",
    "        print(f'Fastest: {time4 - time3} sec, Fastest Acc: {Acc3}')\n",
    "    break"
   ]
  },
  {
   "cell_type": "code",
   "execution_count": 44,
   "metadata": {},
   "outputs": [],
   "source": [
    "# cursor.execute(\"DELETE FROM image_table;\")\n",
    "cursor.execute(\"TRUNCATE TABLE image_table;\")"
   ]
  },
  {
   "cell_type": "code",
   "execution_count": 6,
   "metadata": {},
   "outputs": [],
   "source": [
    "mydb.commit()\n",
    "cursor.close()\n",
    "mydb.close()"
   ]
  }
 ],
 "metadata": {
  "kernelspec": {
   "display_name": "DB_final",
   "language": "python",
   "name": "python3"
  },
  "language_info": {
   "codemirror_mode": {
    "name": "ipython",
    "version": 3
   },
   "file_extension": ".py",
   "mimetype": "text/x-python",
   "name": "python",
   "nbconvert_exporter": "python",
   "pygments_lexer": "ipython3",
   "version": "3.12.3"
  }
 },
 "nbformat": 4,
 "nbformat_minor": 2
}
